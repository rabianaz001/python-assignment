{
 "cells": [
  {
   "cell_type": "markdown",
   "metadata": {},
   "source": [
    "# For loop"
   ]
  },
  {
   "cell_type": "markdown",
   "metadata": {},
   "source": [
    "1.Write a Python program to print numbers from 1 to 10 using a for loop."
   ]
  },
  {
   "cell_type": "code",
   "execution_count": 51,
   "metadata": {},
   "outputs": [
    {
     "name": "stdout",
     "output_type": "stream",
     "text": [
      "0\n",
      "1\n",
      "2\n",
      "3\n",
      "4\n",
      "5\n",
      "6\n",
      "7\n",
      "8\n",
      "9\n",
      "10\n"
     ]
    }
   ],
   "source": [
    "lst =[]\n",
    "for lst in range(0,11):\n",
    "    print(lst)"
   ]
  },
  {
   "cell_type": "markdown",
   "metadata": {},
   "source": [
    "2.Explain the difference between a for loop and a while loop in Python."
   ]
  },
  {
   "cell_type": "markdown",
   "metadata": {},
   "source": [
    "FOR LOOP - It is used to iterate over a sequence of item. such as, python tuple,list,string or range.\n",
    "WHILE LOOP - It is used to repeatedly execute a block of statements while a codition is true.The loop will continue to run as long as the condition is true."
   ]
  },
  {
   "cell_type": "code",
   "execution_count": null,
   "metadata": {},
   "outputs": [],
   "source": [
    "##statements for for loop\n",
    "for var in iterable:\n",
    "##statements for while loop \n",
    "while condition:"
   ]
  },
  {
   "cell_type": "markdown",
   "metadata": {},
   "source": [
    "3.Write a Python program to calculate the sum of all numbers from 1 to 100 using a for loop."
   ]
  },
  {
   "cell_type": "code",
   "execution_count": 65,
   "metadata": {},
   "outputs": [
    {
     "name": "stdout",
     "output_type": "stream",
     "text": [
      "sum of all num is : 5050\n"
     ]
    }
   ],
   "source": [
    "sum_lst = 0\n",
    "for i in range(1,101):\n",
    "    sum_lst += i\n",
    "print(\"sum of all num is :\",sum_lst)"
   ]
  },
  {
   "cell_type": "markdown",
   "metadata": {},
   "source": [
    "4.How do you iterate through a list using a for loop in Python?"
   ]
  },
  {
   "cell_type": "markdown",
   "metadata": {},
   "source": [
    "The easiest method to iterate the list in python programming is by using it with for loop ."
   ]
  },
  {
   "cell_type": "code",
   "execution_count": 22,
   "metadata": {},
   "outputs": [
    {
     "name": "stdout",
     "output_type": "stream",
     "text": [
      "java\n",
      "python\n",
      "dsa\n",
      "sql\n"
     ]
    }
   ],
   "source": [
    "courses = ['java','python','dsa','sql']\n",
    "for i in courses:\n",
    "    print(i)"
   ]
  },
  {
   "cell_type": "markdown",
   "metadata": {},
   "source": [
    "5.Write a Python program to find the product of all elements in a list using a for loop."
   ]
  },
  {
   "cell_type": "code",
   "execution_count": 62,
   "metadata": {},
   "outputs": [
    {
     "name": "stdout",
     "output_type": "stream",
     "text": [
      "10080\n"
     ]
    }
   ],
   "source": [
    "lst = [2,5,6,7,8,3]\n",
    "mult = 1\n",
    "for i in lst:\n",
    "    mult = mult*i\n",
    "print(mult)"
   ]
  },
  {
   "cell_type": "markdown",
   "metadata": {},
   "source": [
    "6.Create a Python program that prints all even numbers from 1 to 20 using a for loop."
   ]
  },
  {
   "cell_type": "code",
   "execution_count": 71,
   "metadata": {},
   "outputs": [
    {
     "name": "stdout",
     "output_type": "stream",
     "text": [
      "2\n",
      "4\n",
      "6\n",
      "8\n",
      "10\n",
      "12\n",
      "14\n",
      "16\n",
      "18\n"
     ]
    }
   ],
   "source": [
    "for num in range (1,20):\n",
    "    if num %2==0:\n",
    "        print(num)        "
   ]
  },
  {
   "cell_type": "markdown",
   "metadata": {},
   "source": [
    "7.Write a Python program that calculates the factorial of a number using a for loop."
   ]
  },
  {
   "cell_type": "code",
   "execution_count": 14,
   "metadata": {},
   "outputs": [
    {
     "name": "stdout",
     "output_type": "stream",
     "text": [
      "enter any num :8\n",
      "factorial of a given num is : 40320\n"
     ]
    }
   ],
   "source": [
    "number = int(input(\"enter any num :\"))\n",
    "factorial = 1\n",
    "for i in range(1,number+1):\n",
    "    factorial*=i\n",
    "print(\"factorial of a given num is :\",factorial)"
   ]
  },
  {
   "cell_type": "markdown",
   "metadata": {},
   "source": [
    "8.How can you iterate through the characters of a string using a for loop in Python?"
   ]
  },
  {
   "cell_type": "code",
   "execution_count": 76,
   "metadata": {},
   "outputs": [
    {
     "name": "stdout",
     "output_type": "stream",
     "text": [
      "h\n",
      "e\n",
      "l\n",
      "l\n",
      "o\n",
      " \n",
      ",\n",
      " \n",
      "p\n",
      "w\n",
      "s\n",
      "k\n",
      "i\n",
      "l\n",
      "l\n",
      "s\n"
     ]
    }
   ],
   "source": [
    "my_string = \"hello , pwskills\"\n",
    "for char in my_string:\n",
    "    print(char)\n",
    "    \n",
    "\"\"\"in this code 'for' loop iterates through each character in 'my_string' variable and prints\n",
    "each character one by one .This allows to process each character of the string individually\n",
    "within the loop.\"\"\""
   ]
  },
  {
   "cell_type": "markdown",
   "metadata": {},
   "source": [
    "9.Write a Python program to find the largest number in a list using a for loop."
   ]
  },
  {
   "cell_type": "code",
   "execution_count": 84,
   "metadata": {},
   "outputs": [
    {
     "name": "stdout",
     "output_type": "stream",
     "text": [
      "95\n"
     ]
    }
   ],
   "source": [
    "lst = [34,56,87,23,15,95]\n",
    "max_num = lst[0]\n",
    "for num in lst :\n",
    "    if num >max_num:\n",
    "        max_num =num\n",
    "print(max_num)"
   ]
  },
  {
   "cell_type": "markdown",
   "metadata": {},
   "source": [
    "10.Create a Python program that prints the Fibonacci sequence up to a specified limit using a for loop."
   ]
  },
  {
   "cell_type": "code",
   "execution_count": 86,
   "metadata": {},
   "outputs": [
    {
     "name": "stdout",
     "output_type": "stream",
     "text": [
      "enter the limit of fibonacci :9\n",
      "Fibonacci sequence upto the limit :\n",
      "[0, 1, 1, 2, 3, 5, 8]\n"
     ]
    }
   ],
   "source": [
    "limit = int(input(\"enter the limit of fibonacci :\"))\n",
    "fibonacci_sequence =[0,1]\n",
    "\n",
    "while True:\n",
    "    next_fibonacci = fibonacci_sequence[-1] +fibonacci_sequence[-2]\n",
    "    if next_fibonacci >limit:\n",
    "        break\n",
    "    fibonacci_sequence.append(next_fibonacci)\n",
    "        \n",
    "print(\"Fibonacci sequence upto the limit :\")\n",
    "print(fibonacci_sequence)"
   ]
  },
  {
   "cell_type": "markdown",
   "metadata": {},
   "source": [
    "11.Write a Python program to count the number of vowels in a given string using a for loop."
   ]
  },
  {
   "cell_type": "code",
   "execution_count": 130,
   "metadata": {},
   "outputs": [
    {
     "name": "stdout",
     "output_type": "stream",
     "text": [
      "Number of vowel in my_string is : 3\n"
     ]
    }
   ],
   "source": [
    "vowel_count =0\n",
    "my_string = \"hello pwkills\"\n",
    "vowel = ['a','e','i','o','u']\n",
    "for i in range(len(my_string)):\n",
    "    if my_string[i] in vowel:\n",
    "        vowel_count+=1\n",
    "print(\"Number of vowel in my_string is :\",vowel_count)"
   ]
  },
  {
   "cell_type": "markdown",
   "metadata": {},
   "source": [
    "12.Create a Python program that generates a multiplication table for a given number using a for loop."
   ]
  },
  {
   "cell_type": "code",
   "execution_count": 17,
   "metadata": {},
   "outputs": [
    {
     "name": "stdout",
     "output_type": "stream",
     "text": [
      "enter the num for table :8\n",
      "Table of given num  8 is\n",
      "1 x 8 = 8\n",
      "2 x 8 = 16\n",
      "3 x 8 = 24\n",
      "4 x 8 = 32\n",
      "5 x 8 = 40\n",
      "6 x 8 = 48\n",
      "7 x 8 = 56\n",
      "8 x 8 = 64\n",
      "9 x 8 = 72\n",
      "10 x 8 = 80\n"
     ]
    }
   ],
   "source": [
    "num = int(input(\"enter the num for table :\"))\n",
    "print(\"Table of given num \",num ,\"is\")\n",
    "for i in range(1,11):\n",
    "    print(i,\"x\",num,\"=\",i*num)"
   ]
  },
  {
   "cell_type": "markdown",
   "metadata": {},
   "source": [
    "13.Write a Python program to reverse a list using a for loop."
   ]
  },
  {
   "cell_type": "code",
   "execution_count": 13,
   "metadata": {},
   "outputs": [
    {
     "name": "stdout",
     "output_type": "stream",
     "text": [
      "reverse list is :[1, 3, 8, 6, 5, 4, 2]\n"
     ]
    }
   ],
   "source": [
    "lst = [2,4,5,6,8,3,1]\n",
    "reverse_lst = []\n",
    "for i in range(len(lst)):\n",
    "    reverse_lst.append(lst[len(lst)-i-1])\n",
    "print(f'reverse list is :{reverse_lst}')   "
   ]
  },
  {
   "cell_type": "markdown",
   "metadata": {},
   "source": [
    "14.Write a Python program to find the common elements between two lists using a for loop."
   ]
  },
  {
   "cell_type": "code",
   "execution_count": 1,
   "metadata": {},
   "outputs": [
    {
     "name": "stdout",
     "output_type": "stream",
     "text": [
      "[]\n"
     ]
    }
   ],
   "source": [
    "lst1 = [2,3,4,5,6,7]\n",
    "lst2 = [3,4,5,8,9,0]\n",
    "\n",
    "common_element = []\n",
    "for i in lst1:\n",
    "    if i in lst2 ==lst1:\n",
    "        common_element.append(lst1,lst2)\n",
    "print(common_element)"
   ]
  },
  {
   "cell_type": "markdown",
   "metadata": {},
   "source": [
    "15.Explain how to use a for loop to iterate through the keys and values of a dictionary in Python."
   ]
  },
  {
   "cell_type": "code",
   "execution_count": 6,
   "metadata": {},
   "outputs": [
    {
     "name": "stdout",
     "output_type": "stream",
     "text": [
      "key:apple,value:6\n",
      "key:mango,value:3\n",
      "key:banana,value:8\n"
     ]
    }
   ],
   "source": [
    "my_dict = {'apple':6,'mango':3,'banana':8}\n",
    "for key,value in my_dict.items():\n",
    "    print(f\"key:{key},value:{value}\")\n",
    "    \n",
    "# In this above example ,my_dict.items() return a list of key and value pairs\n",
    "### and the forloop iterates them in key and value variables ."
   ]
  },
  {
   "cell_type": "markdown",
   "metadata": {},
   "source": [
    "16.Write a Python program to find the GCD (Greatest Common Divisor) of two numbers using a for loop."
   ]
  },
  {
   "cell_type": "code",
   "execution_count": 32,
   "metadata": {},
   "outputs": [
    {
     "name": "stdout",
     "output_type": "stream",
     "text": [
      "GCD of 98 and 56 is 14\n"
     ]
    }
   ],
   "source": [
    "def gcd(a, b):\n",
    "    if (a == 0):\n",
    "        return b\n",
    "    if (b == 0):\n",
    "        return a\n",
    "    if (a == b):\n",
    "        return a\n",
    "    if (a > b):\n",
    "        return gcd(a-b, b)\n",
    "    return gcd(a, b-a)\n",
    "\n",
    "a = 98\n",
    "b = 56\n",
    "print('GCD of', a, 'and', b, 'is', gcd(a, b))"
   ]
  },
  {
   "cell_type": "markdown",
   "metadata": {},
   "source": [
    "17.Create a Python program that checks if a string is a palindrome using a for loop."
   ]
  },
  {
   "cell_type": "code",
   "execution_count": 5,
   "metadata": {},
   "outputs": [
    {
     "name": "stdout",
     "output_type": "stream",
     "text": [
      "Yes\n"
     ]
    }
   ],
   "source": [
    "def isPalindrome(str):\n",
    "    for i in range(0, int(len(str)/2)):\n",
    "        if str[i] != str[len(str)-i-1]:\n",
    "            return False\n",
    "    return True\n",
    "s = \"rubbur\"\n",
    "ans = isPalindrome(s)\n",
    "if (ans):\n",
    "    print(\"Yes\")\n",
    "else:\n",
    "    print(\"No\")"
   ]
  },
  {
   "cell_type": "markdown",
   "metadata": {},
   "source": [
    "18.Write a Python program to remove duplicates from a list using a for loop."
   ]
  },
  {
   "cell_type": "code",
   "execution_count": 15,
   "metadata": {},
   "outputs": [
    {
     "name": "stdout",
     "output_type": "stream",
     "text": [
      "[2, 4, 5, 6, 3]\n"
     ]
    }
   ],
   "source": [
    "def remove(duplicate):\n",
    "    final_lst =[]\n",
    "    for num in duplicate:\n",
    "        if num not in final_lst:\n",
    "            final_lst.append(num)\n",
    "    return final_lst\n",
    "duplicate = [2,4,5,6,2,4,3]\n",
    "print(remove(duplicate))"
   ]
  },
  {
   "cell_type": "markdown",
   "metadata": {},
   "source": [
    "19.Create a Python program that counts the number of words in a sentence using a for loop."
   ]
  },
  {
   "cell_type": "code",
   "execution_count": 27,
   "metadata": {},
   "outputs": [
    {
     "name": "stdout",
     "output_type": "stream",
     "text": [
      "Number of words in a sentence is  5\n"
     ]
    }
   ],
   "source": [
    "sentence = \"python is a programming language \"\n",
    "count = 0\n",
    "for word in sentence.split():\n",
    "    count+=1\n",
    "print('Number of words in a sentence is ',count)"
   ]
  },
  {
   "cell_type": "markdown",
   "metadata": {},
   "source": [
    "20.Write a Python program to find the sum of all odd numbers from 1 to 50 using a for loop."
   ]
  },
  {
   "cell_type": "code",
   "execution_count": 23,
   "metadata": {},
   "outputs": [
    {
     "name": "stdout",
     "output_type": "stream",
     "text": [
      "Sum of Odd Number using for loop \n",
      "Sum of odd number is  625\n"
     ]
    }
   ],
   "source": [
    "print(\"Sum of Odd Number using for loop \")\n",
    "result=0\n",
    "for x in range(1,50):\n",
    "    if(x % 2 == 1):\n",
    "        result=result+x\n",
    "print(\"Sum of odd number is \",result)"
   ]
  },
  {
   "cell_type": "markdown",
   "metadata": {},
   "source": [
    "21.Write a Python program that checks if a given year is a leap year using a for loop."
   ]
  },
  {
   "cell_type": "code",
   "execution_count": 8,
   "metadata": {},
   "outputs": [
    {
     "name": "stdout",
     "output_type": "stream",
     "text": [
      "given year is not leap year\n"
     ]
    }
   ],
   "source": [
    "year = 2014\n",
    "if year%4==0 or year%100==0:\n",
    "    print(\"given year is a leap year\")\n",
    "else:\n",
    "    print(\"given year is not leap year\")"
   ]
  },
  {
   "cell_type": "markdown",
   "metadata": {},
   "source": [
    "22.Create a Python program that calculates the square root of a number using a for loop."
   ]
  },
  {
   "cell_type": "code",
   "execution_count": 11,
   "metadata": {},
   "outputs": [
    {
     "name": "stdout",
     "output_type": "stream",
     "text": [
      "4\n"
     ]
    }
   ],
   "source": [
    "def floorSqrt(x):\n",
    "    if (x == 0 or x == 1):\n",
    "        return x\n",
    "    i = 1\n",
    "    result = 1\n",
    "    while (result <= x):\n",
    "        i += 1\n",
    "        result = i * i\n",
    "    return i - 1\n",
    "x = 20\n",
    "print(floorSqrt(x))"
   ]
  },
  {
   "cell_type": "markdown",
   "metadata": {},
   "source": [
    "23.Write a Python program to find the LCM (Least Common Multiple) of two numbers using a for loop."
   ]
  },
  {
   "cell_type": "code",
   "execution_count": 1,
   "metadata": {},
   "outputs": [
    {
     "name": "stdout",
     "output_type": "stream",
     "text": [
      "LCM of 12 and 14 is 84\n"
     ]
    }
   ],
   "source": [
    "num1 = 12\n",
    "num2 = 14\n",
    "for i in range(max(num1, num2), 1 + (num1 * num2)):\n",
    "    if i % num1 == i % num2 == 0:\n",
    "        lcm = i\n",
    "        break\n",
    "print(\"LCM of\", num1, \"and\", num2, \"is\", lcm)"
   ]
  },
  {
   "cell_type": "markdown",
   "metadata": {},
   "source": [
    "# if_else"
   ]
  },
  {
   "cell_type": "markdown",
   "metadata": {},
   "source": [
    "1.Write a Python program to check if a number is positive, negative, or zero using an if-else statement."
   ]
  },
  {
   "cell_type": "code",
   "execution_count": 6,
   "metadata": {},
   "outputs": [
    {
     "name": "stdout",
     "output_type": "stream",
     "text": [
      "enter any num to check : 12\n",
      "positive\n"
     ]
    }
   ],
   "source": [
    "def check_num(num):\n",
    "    if num<0:\n",
    "        print(\"negative\")\n",
    "    elif num>0:\n",
    "        print(\"positive\") \n",
    "    else:\n",
    "        print(\"zero\")\n",
    "num =int(input(\"enter any num to check : \"))\n",
    "check_num(num)"
   ]
  },
  {
   "cell_type": "markdown",
   "metadata": {},
   "source": [
    "2.Create a Python program that checks if a given number is even or odd using an if-else statement."
   ]
  },
  {
   "cell_type": "code",
   "execution_count": 7,
   "metadata": {},
   "outputs": [
    {
     "name": "stdout",
     "output_type": "stream",
     "text": [
      "enter num to check13\n",
      "odd num\n"
     ]
    }
   ],
   "source": [
    "def check_even_odd(num):\n",
    "    if num%2==0:\n",
    "        print(\"even num\")\n",
    "    else:\n",
    "        print(\"odd num\")\n",
    "num= int(input(\"enter num to check\"))\n",
    "check_even_odd(num)"
   ]
  },
  {
   "cell_type": "markdown",
   "metadata": {},
   "source": [
    "3.How can you use nested if-else statements in Python, and provide an example?"
   ]
  },
  {
   "cell_type": "code",
   "execution_count": 8,
   "metadata": {},
   "outputs": [
    {
     "name": "stdout",
     "output_type": "stream",
     "text": [
      "Positive number\n"
     ]
    }
   ],
   "source": [
    "\"\"\"We can have an if…elif…else statement inside another if…elif…else statement.\n",
    "This is called nesting in computer programming. Any number of these statements \n",
    "can be nested inside one another. Indentation is the only way to figure out the \n",
    "level of nesting.\"\"\"\n",
    "##for example\n",
    "# Python program to demonstrate \n",
    "# nested if statement \n",
    "num = 15\n",
    "if num >= 0: \n",
    "    if num == 0: \n",
    "        print(\"Zero\") \n",
    "    else: \n",
    "         print(\"Positive number\") \n",
    "else: \n",
    "    print(\"Negative number\") "
   ]
  },
  {
   "cell_type": "markdown",
   "metadata": {},
   "source": [
    "4.Write a Python program to determine the largest of three numbers using if-else."
   ]
  },
  {
   "cell_type": "code",
   "execution_count": 10,
   "metadata": {},
   "outputs": [
    {
     "name": "stdout",
     "output_type": "stream",
     "text": [
      "the largest number among three is  80\n"
     ]
    }
   ],
   "source": [
    "num1 =40\n",
    "num2=80\n",
    "num3=50\n",
    "\n",
    "if num1>num2:\n",
    "    greater=num1\n",
    "elif num2>num3:\n",
    "    greater=num2\n",
    "else:\n",
    "    greater= num3\n",
    "print(\"the largest number among three is \",greater)"
   ]
  },
  {
   "cell_type": "markdown",
   "metadata": {},
   "source": [
    "5.Write a Python program that calculates the absolute value of a number using if-else."
   ]
  },
  {
   "cell_type": "code",
   "execution_count": 15,
   "metadata": {},
   "outputs": [
    {
     "name": "stdout",
     "output_type": "stream",
     "text": [
      "Enter any value to check = -10\n"
     ]
    },
    {
     "data": {
      "text/plain": [
       "10"
      ]
     },
     "execution_count": 15,
     "metadata": {},
     "output_type": "execute_result"
    }
   ],
   "source": [
    "def check_absolute(value):\n",
    "    if value<0:\n",
    "        return -value\n",
    "    else:\n",
    "        return value\n",
    "value =int(input(\"Enter any value to check = \"))\n",
    "check_absolute(value)"
   ]
  },
  {
   "cell_type": "markdown",
   "metadata": {},
   "source": [
    "6.Create a Python program that checks if a given character is a vowel or consonant using if-else."
   ]
  },
  {
   "cell_type": "code",
   "execution_count": 16,
   "metadata": {},
   "outputs": [
    {
     "name": "stdout",
     "output_type": "stream",
     "text": [
      "Enter any character : I\n",
      "Given character is vowel\n"
     ]
    }
   ],
   "source": [
    "char =str(input(\"Enter any character : \"))\n",
    "vowel = 'A','E','I','O','U','a','e','i','o','u'\n",
    "if char in vowel:\n",
    "    print(\"Given character is vowel\")\n",
    "else:\n",
    "    print(\"Given character is consonant\")"
   ]
  },
  {
   "cell_type": "markdown",
   "metadata": {},
   "source": [
    "7.Write a Python program to determine if a user is eligible to vote based on their age using if-else."
   ]
  },
  {
   "cell_type": "code",
   "execution_count": 17,
   "metadata": {},
   "outputs": [
    {
     "name": "stdout",
     "output_type": "stream",
     "text": [
      "Enter your age 12\n",
      "You are not eligible to vote\n"
     ]
    }
   ],
   "source": [
    "age = int(input(\"Enter your age \"))\n",
    "if age>=18:\n",
    "    print(\" You are eligible to vote \")\n",
    "else:\n",
    "    print(\"You are not eligible to vote\")"
   ]
  },
  {
   "cell_type": "markdown",
   "metadata": {},
   "source": [
    "8.Create a Python program that calculates the discount amount based on the purchase amount using if-else."
   ]
  },
  {
   "cell_type": "code",
   "execution_count": 18,
   "metadata": {},
   "outputs": [
    {
     "name": "stdout",
     "output_type": "stream",
     "text": [
      "Enter your purchase amount = 2300\n",
      "Discount amount = 120.00\n",
      "Net bill amount= 2180.00\n"
     ]
    }
   ],
   "source": [
    "price = int(input(\"Enter your purchase amount = \"))\n",
    "if price<500:\n",
    "    dis=0\n",
    "elif price>=500 and price <1000:\n",
    "    dis=(price-500)*(10/100.0)\n",
    "elif price>=1000 and price<2000:\n",
    "    dis=(price-1000)*(20/100.0)\n",
    "elif price>2000 and price<=3000:\n",
    "    dis=(price-2000)*(40/100.0)\n",
    "else:\n",
    "    dis=(price-3000)*(50/100.0)\n",
    "print(\"Discount amount = {:.2f}\".format(dis))\n",
    "print(\"Net bill amount= {:.2f}\".format(price-dis))"
   ]
  },
  {
   "cell_type": "markdown",
   "metadata": {},
   "source": [
    "9.Write a Python program to check if a number is within a specified range using if-else."
   ]
  },
  {
   "cell_type": "code",
   "execution_count": 19,
   "metadata": {},
   "outputs": [
    {
     "name": "stdout",
     "output_type": "stream",
     "text": [
      "Num is within range\n"
     ]
    }
   ],
   "source": [
    "num =45\n",
    "if num in range(1,50):\n",
    "    print(\"Num is within range\")\n",
    "else:\n",
    "    print(\"Num is not within range\")"
   ]
  },
  {
   "cell_type": "markdown",
   "metadata": {},
   "source": [
    "10.Create a Python program that determines the grade of a student based on their score using if-else."
   ]
  },
  {
   "cell_type": "code",
   "execution_count": 20,
   "metadata": {},
   "outputs": [
    {
     "name": "stdout",
     "output_type": "stream",
     "text": [
      "Enter your score = 450\n",
      "Grade A\n"
     ]
    }
   ],
   "source": [
    "score = int(input(\"Enter your score = \"))\n",
    "fullmark = 500\n",
    "if score<200:\n",
    "    print(\"Fail\")\n",
    "elif score>=200 and score<300:\n",
    "    print(\"Grade C\")\n",
    "elif score>=300 and score<400:\n",
    "    print(\" Grade B\")\n",
    "else:\n",
    "    print(\"Grade A\")"
   ]
  },
  {
   "cell_type": "markdown",
   "metadata": {},
   "source": [
    "11.Write a Python program to check if a string is empty or not using if-else."
   ]
  },
  {
   "cell_type": "code",
   "execution_count": 21,
   "metadata": {},
   "outputs": [
    {
     "name": "stdout",
     "output_type": "stream",
     "text": [
      "The zero length string without spaces is empty ? : Yes\n",
      "The zero length string with just spaces is empty ? : No\n"
     ]
    }
   ],
   "source": [
    "string1 =''\n",
    "string2 ='  '\n",
    "print (\"The zero length string without spaces is empty ? : \", end = \"\")\n",
    "if(not string1):\n",
    "    print (\"Yes\")\n",
    "else :\n",
    "    print (\"No\")\n",
    "    \n",
    "print (\"The zero length string with just spaces is empty ? : \", end = \"\")\n",
    "if(not string2):\n",
    "    print (\"Yes\")\n",
    "else :\n",
    "    print (\"No\")"
   ]
  },
  {
   "cell_type": "markdown",
   "metadata": {},
   "source": [
    "12.Create a Python program that identifies the type of a triangle (e.g., equilateral, isosceles, or scalene) based on input values using if-else."
   ]
  },
  {
   "cell_type": "code",
   "execution_count": 26,
   "metadata": {},
   "outputs": [
    {
     "name": "stdout",
     "output_type": "stream",
     "text": [
      "enter first side of traingle = 12\n",
      "enter second side of traingle = 14\n",
      "enter third side of traingle = 12\n",
      "Isosceles Triangle\n"
     ]
    }
   ],
   "source": [
    "def check_triangle(a,b,c):\n",
    "    if a==b==c:\n",
    "        print(\"Equilateral Triangle\")\n",
    "    elif a!=b!=c!=a :\n",
    "        print(\"Scelene Triangle\")\n",
    "    else:\n",
    "        print(\"Isosceles Triangle\")\n",
    "a = int(input(\"enter first side of traingle = \"))\n",
    "b= int(input(\"enter second side of traingle = \"))\n",
    "c= int(input(\"enter third side of traingle = \"))\n",
    "\n",
    "check_triangle(a,b,c)"
   ]
  },
  {
   "cell_type": "markdown",
   "metadata": {},
   "source": [
    "13.Write a Python program to determine the day of the week based on a user-provided number using if-else."
   ]
  },
  {
   "cell_type": "code",
   "execution_count": 29,
   "metadata": {},
   "outputs": [
    {
     "name": "stdout",
     "output_type": "stream",
     "text": [
      "enter your day num = 5\n",
      "Day 5 is Friday\n"
     ]
    }
   ],
   "source": [
    "day = int(input(\"enter your day num = \"))\n",
    "if day ==1:\n",
    "    print(\"Day 1 is Monday\")\n",
    "elif day==2:\n",
    "    print(\"Day 2 is Tuesday\")\n",
    "elif day==3:\n",
    "    print(\"Day 3 is Wednesday\")\n",
    "elif day==4:\n",
    "    print(\"Day 4 is Thursday\")\n",
    "elif day==5:\n",
    "    print(\"Day 5 is Friday\")\n",
    "elif day==6:\n",
    "    print(\"Day 6 is Saturday\")\n",
    "elif day==7:\n",
    "    print(\"Day 7 is Sunday\")\n",
    "else:\n",
    "    print(\"None\")"
   ]
  },
  {
   "cell_type": "markdown",
   "metadata": {},
   "source": [
    "14.Create a Python program that checks if a given year is a leap year using both if-else and a function."
   ]
  },
  {
   "cell_type": "code",
   "execution_count": 31,
   "metadata": {},
   "outputs": [
    {
     "name": "stdout",
     "output_type": "stream",
     "text": [
      "Enter year to check = 2016\n",
      "Given 2016 is a leap year\n"
     ]
    }
   ],
   "source": [
    "def check_leap_year(year):\n",
    "    if((year%400==0)or\n",
    "        (year%100!=0)and\n",
    "        (year%4==0)):\n",
    "        print(\"Given\",year,\"is a leap year\")\n",
    "    else:\n",
    "        print(\"Given\",year,\"is not a leap year\")\n",
    "year= int(input(\"Enter year to check = \"))\n",
    "check_leap_year(year)"
   ]
  },
  {
   "cell_type": "markdown",
   "metadata": {},
   "source": [
    "15.How do you use the \"assert\" statement in Python to add debugging checks within if-else blocks?"
   ]
  },
  {
   "cell_type": "code",
   "execution_count": 41,
   "metadata": {},
   "outputs": [
    {
     "name": "stdout",
     "output_type": "stream",
     "text": [
      "ineuron\n"
     ]
    }
   ],
   "source": [
    "\"\"\" ASSERT statement in python is used when debugging code. \n",
    "if a condition is true,the assert keyword do nothing and executes the code,\n",
    "if not, the program will raise an AssertionError \"\"\"\n",
    "\n",
    "##for example\n",
    "try:\n",
    "    x = \"ineuron\"\n",
    "##if condition is false then AssertionError is raised\n",
    "    assert x == \"pwskills\" \n",
    "##this is removed by putting this exception handling\n",
    "except AssertionError as warn:\n",
    "    print(x)"
   ]
  },
  {
   "cell_type": "markdown",
   "metadata": {},
   "source": [
    "16.Create a Python program that determines the eligibility of a person for a senior citizen discount based on age using if-else."
   ]
  },
  {
   "cell_type": "code",
   "execution_count": 42,
   "metadata": {},
   "outputs": [
    {
     "name": "stdout",
     "output_type": "stream",
     "text": [
      "enter your age = 75\n",
      "you are eligible for senior citizen \n"
     ]
    }
   ],
   "source": [
    "age =int(input(\"enter your age = \"))\n",
    "if age>=60:\n",
    "    print(\"you are eligible for senior citizen \")\n",
    "else:\n",
    "    print(\"you are not eligible for senior citizen \")"
   ]
  },
  {
   "cell_type": "markdown",
   "metadata": {},
   "source": [
    "17.Write a Python program to categorize a given character as uppercase, lowercase, or neither using if-else."
   ]
  },
  {
   "cell_type": "code",
   "execution_count": 43,
   "metadata": {},
   "outputs": [
    {
     "name": "stdout",
     "output_type": "stream",
     "text": [
      "enter any character : t\n",
      "Given character is in lowercase\n"
     ]
    }
   ],
   "source": [
    "char =str(input(\"enter any character : \"))\n",
    "if char.isupper():\n",
    "    print(\"Given character is in uppercase\")\n",
    "elif char.islower():\n",
    "    print(\"Given character is in lowercase\")\n",
    "else:\n",
    "    print('None')"
   ]
  },
  {
   "cell_type": "markdown",
   "metadata": {},
   "source": [
    "18.Write a Python program to determine the roots of a quadratic equation using if-else."
   ]
  },
  {
   "cell_type": "code",
   "execution_count": 44,
   "metadata": {},
   "outputs": [
    {
     "name": "stdout",
     "output_type": "stream",
     "text": [
      "Equation: ax^2 + bx + c \n",
      "Enter a: 12\n",
      "Enter b: 16\n",
      "Enter c: 18\n",
      "The roots are imaginary. \n"
     ]
    }
   ],
   "source": [
    "print(\"Equation: ax^2 + bx + c \")\n",
    "a=int(input(\"Enter a: \"))\n",
    "b=int(input(\"Enter b: \"))\n",
    "c=int(input(\"Enter c: \"))\n",
    "d=b**2-4*a*c\n",
    "d1=d**0.5\n",
    "if(d<0):\n",
    "    print(\"The roots are imaginary. \")\n",
    "else:\n",
    "    r1=(-b+d1)/2*a\n",
    "    r2=(-b-d1)/2*a\n",
    "    print(\"The first root: \",round(r1,2))\n",
    "    print(\"The second root: \",round(r2,2))"
   ]
  },
  {
   "cell_type": "markdown",
   "metadata": {},
   "source": [
    "19.Create a Python program that checks if a given year is a century year or not using if-else."
   ]
  },
  {
   "cell_type": "code",
   "execution_count": 45,
   "metadata": {},
   "outputs": [
    {
     "name": "stdout",
     "output_type": "stream",
     "text": [
      "Enter year to check : 2016\n",
      "This is not a century year\n"
     ]
    }
   ],
   "source": [
    "year =int(input(\"Enter year to check : \"))\n",
    "if year%100==0:\n",
    "    print(\"This is a century year\")\n",
    "else:\n",
    "    print(\"This is not a century year\")"
   ]
  },
  {
   "cell_type": "markdown",
   "metadata": {},
   "source": [
    "20.Write a Python program to determine if a given number is a perfect square using if-else."
   ]
  },
  {
   "cell_type": "code",
   "execution_count": 52,
   "metadata": {},
   "outputs": [
    {
     "name": "stdout",
     "output_type": "stream",
     "text": [
      "The number is a perfect square\n"
     ]
    }
   ],
   "source": [
    "import math  \n",
    "num = 25  \n",
    "sqrt_num = math.sqrt(num)  \n",
    "if sqrt_num.is_integer():  \n",
    "    print(\"The number is a perfect square\")  \n",
    "else:  \n",
    "    print(\"The number is not a perfect square\")"
   ]
  },
  {
   "cell_type": "markdown",
   "metadata": {},
   "source": [
    "21.Explain the purpose of the \"continue\" and \"break\" statements within if-else loops."
   ]
  },
  {
   "cell_type": "code",
   "execution_count": null,
   "metadata": {},
   "outputs": [],
   "source": [
    "\"\"\" CONTINUE statements is used to skip the current iteration of the loop.\n",
    "BREAK statement is used to terminate the loop immediately and causes execution to resume after the loop\"\"\"\n"
   ]
  },
  {
   "cell_type": "markdown",
   "metadata": {},
   "source": [
    "22.Create a Python program that calculates the BMI (Body Mass Index) of a person based on their weight and height using if-else."
   ]
  },
  {
   "cell_type": "code",
   "execution_count": 58,
   "metadata": {},
   "outputs": [
    {
     "name": "stdout",
     "output_type": "stream",
     "text": [
      " Enter your weight : 50\n",
      "Enter your height : 5\n"
     ]
    }
   ],
   "source": [
    "def calculates_bmi(height,weight):\n",
    "    bmi =''\n",
    "    if bmi == weight / (height/100)**2:\n",
    "        return bmi\n",
    "        \n",
    "weight =float(input(\" Enter your weight : \"))\n",
    "height = float(input(\"Enter your height : \"))\n",
    "calculates_bmi(weight,height)"
   ]
  },
  {
   "cell_type": "markdown",
   "metadata": {},
   "source": [
    "23.How can you use the \"filter()\" function with if-else statements to filter elements from a list?"
   ]
  },
  {
   "cell_type": "code",
   "execution_count": 10,
   "metadata": {},
   "outputs": [
    {
     "name": "stdout",
     "output_type": "stream",
     "text": [
      "The list of odd numbers is:  [5, 23, 53, 93, -13]\n",
      "The list of even numbers is:  [10, 64, 42, 2, 0, -14, 6, -22]\n"
     ]
    }
   ],
   "source": [
    "\"\"\"Introduction to Python filter() function\n",
    "First, define an empty list ( filtered ) that will hold the elements from the scores list.\n",
    "Second, iterate over the elements of the scores list. If the element is greater than or equal to 70,\n",
    "add it to the filtered list.\n",
    "Third, show the filtered list to the screen.\"\"\"\n",
    "\n",
    "##for example:\n",
    "nums = [5, 10, 23, 64, 42, 53, 93, 2, 0, -14, 6, -22, -13]\n",
    "\n",
    "#Filter all the odd numbers from the list\n",
    "\n",
    "odd = filter(lambda p : p%2 != 0, nums)\n",
    "\n",
    "#Filter all the even numbers from the list\n",
    "\n",
    "even = filter(lambda p: p%2 == 0, nums)\n",
    "\n",
    "print(\"The list of odd numbers is: \", list(odd))\n",
    "\n",
    "print(\"The list of even numbers is: \", list(even))"
   ]
  },
  {
   "cell_type": "markdown",
   "metadata": {},
   "source": [
    "24.Write a Python program to determine if a given number is prime or not using if-else."
   ]
  },
  {
   "cell_type": "code",
   "execution_count": 4,
   "metadata": {},
   "outputs": [
    {
     "name": "stdout",
     "output_type": "stream",
     "text": [
      "enter num to check :7\n",
      "7 is a prime number\n"
     ]
    }
   ],
   "source": [
    "def check_prime(num):\n",
    "    if num>1:\n",
    "        for i in range(2,int(num/2)+1):\n",
    "            if(num%i)==0:\n",
    "                print(num,\"is not a prime number\")\n",
    "                break\n",
    "        else:\n",
    "            print(num,\"is a prime number\")\n",
    "    else:\n",
    "            print(num,\"is not a prime number\")\n",
    "num= int(input(\"enter num to check :\"))\n",
    "check_prime(num)"
   ]
  },
  {
   "cell_type": "markdown",
   "metadata": {},
   "source": [
    "# Map "
   ]
  },
  {
   "cell_type": "markdown",
   "metadata": {},
   "source": [
    "1.Explain the purpose of the `map()` function in Python and provide an example of how it can be used to apply a function to each element of an iterable."
   ]
  },
  {
   "cell_type": "code",
   "execution_count": 9,
   "metadata": {},
   "outputs": [
    {
     "name": "stdout",
     "output_type": "stream",
     "text": [
      "<map object at 0x0000020159235688>\n",
      "[9, 25, 49, 121, 169]\n"
     ]
    }
   ],
   "source": [
    "\"\"\"Map in Python is a function that works as an iterator to return a result after applying\n",
    "a function to every item of an iterable (tuple, lists, etc.). It is used when you want to \n",
    "apply a single transformation function to all the iterable elements. The iterable and \n",
    "function are passed as arguments to the map in Python.\"\"\"\n",
    "##for example:\n",
    "def mul(i):\n",
    "\n",
    "    return i * i\n",
    "\n",
    "# Using the map function\n",
    "\n",
    "x = map(mul, (3, 5, 7, 11, 13))\n",
    "\n",
    "print (x)\n",
    "\n",
    "print(list(x))"
   ]
  },
  {
   "cell_type": "markdown",
   "metadata": {},
   "source": [
    "2.Write a Python program that uses the `map()` function to square each element of a list of numbers."
   ]
  },
  {
   "cell_type": "code",
   "execution_count": 11,
   "metadata": {},
   "outputs": [
    {
     "name": "stdout",
     "output_type": "stream",
     "text": [
      "Original List:  [4, 5, 2, 9]\n",
      "Square the elements of the said list using map():\n",
      "[16, 25, 4, 81]\n"
     ]
    }
   ],
   "source": [
    "def square_num(n):\n",
    "    return n * n\n",
    "nums = [4, 5, 2, 9]\n",
    "print(\"Original List: \",nums)\n",
    "result = map(square_num, nums)\n",
    "print(\"Square the elements of the said list using map():\")\n",
    "print(list(result))"
   ]
  },
  {
   "cell_type": "markdown",
   "metadata": {},
   "source": [
    "3.How does the `map()` function differ from a list comprehension in Python, and when would you choose one over the other?"
   ]
  },
  {
   "cell_type": "markdown",
   "metadata": {},
   "source": [
    "List comprehension are used when a list of results is required as map only returns a map object and does not return any list. Map is faster in case of calling an already defined function (as no lambda is required)."
   ]
  },
  {
   "cell_type": "markdown",
   "metadata": {},
   "source": [
    "4.Create a Python program that uses the `map()` function to convert a list of names to uppercase."
   ]
  },
  {
   "cell_type": "code",
   "execution_count": 56,
   "metadata": {},
   "outputs": [
    {
     "data": {
      "text/plain": [
       "['PWSKILLS', 'INEURON']"
      ]
     },
     "execution_count": 56,
     "metadata": {},
     "output_type": "execute_result"
    }
   ],
   "source": [
    "lst= [\"pwskills\",\"ineuron\"]\n",
    "list(map(lambda a:a.upper(),lst))"
   ]
  },
  {
   "cell_type": "markdown",
   "metadata": {},
   "source": [
    "5.Write a Python program that uses the `map()` function to calculate the length of each word in a list of strings."
   ]
  },
  {
   "cell_type": "code",
   "execution_count": 41,
   "metadata": {},
   "outputs": [
    {
     "name": "stdout",
     "output_type": "stream",
     "text": [
      "length of each word in a list of strings is  [8, 2, 1, 4, 5, 5, 9]\n"
     ]
    }
   ],
   "source": [
    "x = \"pwskills is a well known study plateform \"\n",
    "length= list(map(len, x.split()))\n",
    "print(\"length of each word in a list of strings is \",length)"
   ]
  },
  {
   "cell_type": "markdown",
   "metadata": {},
   "source": [
    "6.How can you use the `map()` function to apply a custom function to elements of multiple lists simultaneously in Python?"
   ]
  },
  {
   "cell_type": "code",
   "execution_count": 44,
   "metadata": {},
   "outputs": [
    {
     "name": "stdout",
     "output_type": "stream",
     "text": [
      "[2, 16, 216, 4096, 100000]\n"
     ]
    }
   ],
   "source": [
    "\"\"\"To apply a function with multiple list, we pass in another list name following \n",
    "the first one. For example, using the pow() function that takes in two numbers to find the\n",
    "power of the base number to the provided exponent.\"\"\"\n",
    "##forexample\n",
    "base_numbers = [2, 4, 6, 8, 10]\n",
    "powers = [1, 2, 3, 4, 5]\n",
    "\n",
    "numbers_powers = list(map(pow, base_numbers, powers))\n",
    "print(numbers_powers)"
   ]
  },
  {
   "cell_type": "markdown",
   "metadata": {},
   "source": [
    "7.Create a Python program that uses `map()` to convert a list of temperatures from Celsius to Fahrenheit."
   ]
  },
  {
   "cell_type": "code",
   "execution_count": 50,
   "metadata": {},
   "outputs": [
    {
     "name": "stdout",
     "output_type": "stream",
     "text": [
      "list of temperatures from Celsius to Fahrenheit: [73.4, 93.2, 77.0, 53.6]\n"
     ]
    }
   ],
   "source": [
    "celsius_lst = [23,34,25,12]\n",
    "fahrenheit = list(map(lambda c :(c*9/5)+32,celsius_lst))\n",
    "print(\"list of temperatures from Celsius to Fahrenheit:\",fahrenheit)"
   ]
  },
  {
   "cell_type": "markdown",
   "metadata": {},
   "source": [
    "8.Write a Python program that uses the `map()` function to round each element of a list of floating-point numbers to the nearest integer."
   ]
  },
  {
   "cell_type": "code",
   "execution_count": 52,
   "metadata": {},
   "outputs": [
    {
     "data": {
      "text/plain": [
       "[12, 35, 46, 65, 79]"
      ]
     },
     "execution_count": 52,
     "metadata": {},
     "output_type": "execute_result"
    }
   ],
   "source": [
    "lst = [12.3,34.6,45.8,65.3,78.99]\n",
    "list(map(round,lst))"
   ]
  },
  {
   "cell_type": "markdown",
   "metadata": {},
   "source": [
    "# Reduce "
   ]
  },
  {
   "cell_type": "markdown",
   "metadata": {},
   "source": [
    "1.What is the `reduce()` function in Python, and what module should you import to use it? Provide an example of its basic usage."
   ]
  },
  {
   "cell_type": "markdown",
   "metadata": {},
   "source": [
    "The reduce() function is a powerful tool in Python that operates on a list (or any iterable), applies a function to its elements, and 'reduces' them to a single output. It's part of the functools module, which needs to be imported before you can use reduce(). "
   ]
  },
  {
   "cell_type": "markdown",
   "metadata": {},
   "source": [
    "2.Write a Python program that uses the `reduce()` function to find the product of all elements in a list."
   ]
  },
  {
   "cell_type": "code",
   "execution_count": 63,
   "metadata": {},
   "outputs": [
    {
     "name": "stdout",
     "output_type": "stream",
     "text": [
      " product of all elements in a list : 180\n"
     ]
    }
   ],
   "source": [
    "import functools \n",
    "lst = [1, 3, 5, 6, 2] \n",
    "print(\" product of all elements in a list : \",end=\"\")\n",
    "print(functools.reduce(lambda a, b: a*b, lst)) "
   ]
  },
  {
   "cell_type": "markdown",
   "metadata": {},
   "source": [
    "3.Create a Python program that uses `reduce()` to find the maximum element in a list of numbers."
   ]
  },
  {
   "cell_type": "code",
   "execution_count": 64,
   "metadata": {},
   "outputs": [
    {
     "name": "stdout",
     "output_type": "stream",
     "text": [
      "Maximum element in a list of numbers:98\n"
     ]
    }
   ],
   "source": [
    "import functools\n",
    "lst = [34,76,24,98,45,79,87]\n",
    "print(\"Maximum element in a list of numbers:\",end=\"\")\n",
    "print(functools.reduce(lambda a, b: a if a > b else b, lst))"
   ]
  },
  {
   "cell_type": "markdown",
   "metadata": {},
   "source": [
    "4.How can you use the `reduce()` function to concatenate a list of strings into a single string?"
   ]
  },
  {
   "cell_type": "code",
   "execution_count": 82,
   "metadata": {},
   "outputs": [
    {
     "name": "stdout",
     "output_type": "stream",
     "text": [
      "The concatenated list of srtings is : pwkillsineurondatascience\n"
     ]
    }
   ],
   "source": [
    "from functools import reduce\n",
    "lst = [\"pwkills\",\"ineuron\",\"datascience\"]\n",
    "  \n",
    "# using reduce to concatenate string \n",
    "def concatenate_strings(str1, str2):\n",
    "    return str1 + str2\n",
    "result = reduce(concatenate_strings, lst)\n",
    "print(\"The concatenated list of srtings is : \", end=\"\") \n",
    "print(result)"
   ]
  },
  {
   "cell_type": "markdown",
   "metadata": {},
   "source": [
    "5.Write a Python program that calculates the factorial of a number using the `reduce()` function."
   ]
  },
  {
   "cell_type": "code",
   "execution_count": 139,
   "metadata": {},
   "outputs": [
    {
     "name": "stdout",
     "output_type": "stream",
     "text": [
      "6\n"
     ]
    }
   ],
   "source": [
    "from functools import reduce\n",
    "def factorial_num(n):\n",
    "    if n==0:\n",
    "        return 1\n",
    "    else:\n",
    "        return functools.reduce(lambda x,y: x*y, range(1,n+1))\n",
    "print(factorial_num(3))"
   ]
  },
  {
   "cell_type": "markdown",
   "metadata": {},
   "source": [
    "6.Create a Python program that uses `reduce()` to find the GCD (Greatest Common Divisor) of a list of numbers.\n"
   ]
  },
  {
   "cell_type": "code",
   "execution_count": 94,
   "metadata": {},
   "outputs": [
    {
     "name": "stdout",
     "output_type": "stream",
     "text": [
      "4\n"
     ]
    }
   ],
   "source": [
    "import numpy as np\n",
    "\n",
    "arr = np.array([20, 8, 32, 36, 16])\n",
    "\n",
    "x = np.gcd.reduce(arr)\n",
    "\n",
    "print(x)"
   ]
  },
  {
   "cell_type": "markdown",
   "metadata": {},
   "source": [
    "7.Write a Python program that uses the `reduce()` function to find the sum of the digits of a given number."
   ]
  },
  {
   "cell_type": "code",
   "execution_count": 96,
   "metadata": {},
   "outputs": [
    {
     "name": "stdout",
     "output_type": "stream",
     "text": [
      "112\n"
     ]
    }
   ],
   "source": [
    "import numpy as np\n",
    "\n",
    "arr = np.array([20, 8, 32, 36, 16])\n",
    "\n",
    "x = np.add.reduce(arr)\n",
    "\n",
    "print(x)"
   ]
  },
  {
   "cell_type": "markdown",
   "metadata": {},
   "source": [
    "# Filter "
   ]
  },
  {
   "cell_type": "markdown",
   "metadata": {},
   "source": [
    "1.Explain the purpose of the `filter()` function in Python and provide an example of how it can be used to filter elements from an iterable."
   ]
  },
  {
   "cell_type": "code",
   "execution_count": 106,
   "metadata": {},
   "outputs": [
    {
     "name": "stdout",
     "output_type": "stream",
     "text": [
      "list of odd num is  [9]\n"
     ]
    }
   ],
   "source": [
    "\"\"\"The filter() function selects elements from an iterable (list, tuple etc.) based on the output\n",
    "of a function.The function is applied to each element of the iterable and if it returns True,\n",
    "the element is selected by the filter() function.\"\"\"\n",
    "## Example\n",
    "l = [2,9,6,8,4,]\n",
    "result =list(filter(lambda a :a%2!=0,l))\n",
    "print(\"list of odd num is \",result)"
   ]
  },
  {
   "cell_type": "markdown",
   "metadata": {},
   "source": [
    "2.Write a Python program that uses the `filter()` function to select even numbers from a list of integers."
   ]
  },
  {
   "cell_type": "code",
   "execution_count": 107,
   "metadata": {},
   "outputs": [
    {
     "name": "stdout",
     "output_type": "stream",
     "text": [
      "list of even num is : [34, 96, 54, 12, 98]\n"
     ]
    }
   ],
   "source": [
    "lst = [34,87,96,54,35,12,77,98]\n",
    "result = list(filter(lambda a: a%2==0 ,lst))\n",
    "print(\"list of even num is :\",result)"
   ]
  },
  {
   "cell_type": "markdown",
   "metadata": {},
   "source": [
    "3.Create a Python program that uses the `filter()` function to select names that start with a specific letter from a list of strings."
   ]
  },
  {
   "cell_type": "code",
   "execution_count": 125,
   "metadata": {},
   "outputs": [
    {
     "data": {
      "text/plain": [
       "['ineuron', 'instagram', 'iphone']"
      ]
     },
     "execution_count": 125,
     "metadata": {},
     "output_type": "execute_result"
    }
   ],
   "source": [
    "lst = [\"ineuron\",\"physicswallah\",\"instagram\",\"pwdlab\",\"iphone\"]\n",
    "#list(filter(lambda x:x.startswith('i'),lst))\n",
    "list(filter(lambda a: a[0]=='i',lst))"
   ]
  },
  {
   "cell_type": "markdown",
   "metadata": {},
   "source": [
    "4.Write a Python program that uses the `filter()` function to select prime numbers from a list of integers."
   ]
  },
  {
   "cell_type": "code",
   "execution_count": 120,
   "metadata": {},
   "outputs": [
    {
     "name": "stdout",
     "output_type": "stream",
     "text": [
      "List of integers:\n",
      "[1, 2, 3, 4, 5, 6, 7, 8, 9, 10, 11, 12, 13, 14, 15, 16, 17]\n",
      "\n",
      "Extract prime numbers of the said list:\n",
      "[2, 3, 5, 7, 11, 13, 17]\n"
     ]
    }
   ],
   "source": [
    "# Define a function to check if a number is prime\n",
    "def is_prime(n):\n",
    "    if n <= 1:\n",
    "        return False\n",
    "    if n <= 3:\n",
    "        return True\n",
    "    if n % 2 == 0 or n % 3 == 0:\n",
    "        return False\n",
    "    i = 5\n",
    "    while i * i <= n:\n",
    "        if n % i == 0 or n % (i + 2) == 0:\n",
    "            return False\n",
    "        i += 6\n",
    "    return True\n",
    "\n",
    "# Define a list of integers\n",
    "numbers = [1, 2, 3, 4, 5, 6, 7, 8, 9, 10, 11, 12, 13, 14, 15, 16, 17]\n",
    "print(\"List of integers:\")\n",
    "print(numbers)\n",
    "# Use the filter function to extract prime numbers\n",
    "prime_numbers = list(filter(is_prime, numbers))\n",
    "print(\"\\nExtract prime numbers of the said list:\")\n",
    "# Print the extracted prime numbers\n",
    "print(prime_numbers)\n"
   ]
  },
  {
   "cell_type": "markdown",
   "metadata": {},
   "source": [
    "5.How can you use the `filter()` function to remove None values from a list in Python?"
   ]
  },
  {
   "cell_type": "code",
   "execution_count": 124,
   "metadata": {},
   "outputs": [
    {
     "name": "stdout",
     "output_type": "stream",
     "text": [
      "The original list is :  [1, None, 4, None, None, 5, 8, None, False]\n",
      "List after removal of None values :  [1, 4, 5, 8]\n"
     ]
    }
   ],
   "source": [
    "import itertools\n",
    "# initializing list\n",
    "test_list = [1, None, 4, None, None, 5, 8, None, False]\n",
    "# printing original list\n",
    "print(\"The original list is : \" ,test_list)\n",
    "# using filter()\n",
    "# to remove None values in list\n",
    "res = list(itertools.filterfalse(lambda item: not item , test_list))\n",
    "# printing result\n",
    "print(\"List after removal of None values : \" ,res)"
   ]
  },
  {
   "cell_type": "markdown",
   "metadata": {},
   "source": [
    "6.Create a Python program that uses `filter()` to select words longer than a certain length from a list of strings."
   ]
  },
  {
   "cell_type": "code",
   "execution_count": 126,
   "metadata": {},
   "outputs": [
    {
     "data": {
      "text/plain": [
       "['ineuron', 'pwdlab', 'iphone']"
      ]
     },
     "execution_count": 126,
     "metadata": {},
     "output_type": "execute_result"
    }
   ],
   "source": [
    "lst = [\"ineuron\",\"physicswallah\",\"instagram\",\"pwdlab\",\"iphone\"]\n",
    "list(filter(lambda a:len(a)<=8,lst))"
   ]
  },
  {
   "cell_type": "markdown",
   "metadata": {},
   "source": [
    "7.Write a Python program that uses the `filter()` function to select elements greater than a specified threshold from a list of values."
   ]
  },
  {
   "cell_type": "code",
   "execution_count": 145,
   "metadata": {},
   "outputs": [
    {
     "name": "stdout",
     "output_type": "stream",
     "text": [
      "[87, 54, 98, 76]\n"
     ]
    }
   ],
   "source": [
    "lst = [23,45,87,54,23,98,76,43,19,34]\n",
    "threshold=50\n",
    "res= list(filter(lambda element :element >=threshold,lst))\n",
    "print(res)"
   ]
  },
  {
   "cell_type": "markdown",
   "metadata": {},
   "source": [
    "# Recursion:"
   ]
  },
  {
   "cell_type": "markdown",
   "metadata": {},
   "source": [
    "1.Explain the concept of recursion in Python. How does it differ from iteration?"
   ]
  },
  {
   "cell_type": "code",
   "execution_count": null,
   "metadata": {},
   "outputs": [],
   "source": [
    "\"\"\"Recursion in python is a function that calls itself during its execution.\n",
    "This enables the function to be repeated several times,as it can call itself during its execution.\n",
    "While Iteration is a technique that repetitively executes a code block until the condition is unmet.\n",
    "*Some of the differences are:-\n",
    "1.Recursion uses more memory than iteration.\n",
    "2.Recursion is slower than iteration.\"\"\""
   ]
  },
  {
   "cell_type": "markdown",
   "metadata": {},
   "source": [
    "2.Write a Python program to calculate the factorial of a number using recursion."
   ]
  },
  {
   "cell_type": "code",
   "execution_count": 156,
   "metadata": {},
   "outputs": [
    {
     "name": "stdout",
     "output_type": "stream",
     "text": [
      "120\n"
     ]
    }
   ],
   "source": [
    "#method definition\n",
    "def fact_num(n):\n",
    "#basecase condition\n",
    "    if n<=1:\n",
    "        return 1\n",
    "#recursive function call\n",
    "    return n*fact_num(n-1)\n",
    "#driver code\n",
    "n =5\n",
    "result = fact_num(n)\n",
    "print(result)    "
   ]
  },
  {
   "cell_type": "markdown",
   "metadata": {},
   "source": [
    "3.Create a recursive Python function to find the nth Fibonacci number."
   ]
  },
  {
   "cell_type": "code",
   "execution_count": 166,
   "metadata": {},
   "outputs": [
    {
     "name": "stdout",
     "output_type": "stream",
     "text": [
      "89\n"
     ]
    }
   ],
   "source": [
    "def fibonacci(num):\n",
    "    if num<=1:\n",
    "        return 1\n",
    "    return fibonacci(num-1)+fibonacci(num-2)\n",
    "num = 10\n",
    "result =fibonacci(num)\n",
    "print(result)"
   ]
  },
  {
   "cell_type": "markdown",
   "metadata": {},
   "source": [
    "4.Write a recursive Python function to calculate the sum of all elements in a list."
   ]
  },
  {
   "cell_type": "code",
   "execution_count": 12,
   "metadata": {},
   "outputs": [
    {
     "ename": "TypeError",
     "evalue": "'<=' not supported between instances of 'list' and 'int'",
     "output_type": "error",
     "traceback": [
      "\u001b[1;31m---------------------------------------------------------------------------\u001b[0m",
      "\u001b[1;31mTypeError\u001b[0m                                 Traceback (most recent call last)",
      "\u001b[1;32m<ipython-input-12-77161c6cf6ae>\u001b[0m in \u001b[0;36m<module>\u001b[1;34m\u001b[0m\n\u001b[0;32m      4\u001b[0m     \u001b[1;32mreturn\u001b[0m \u001b[0mn\u001b[0m\u001b[1;33m%\u001b[0m\u001b[1;36m10\u001b[0m \u001b[1;33m+\u001b[0m \u001b[0msum_num\u001b[0m\u001b[1;33m(\u001b[0m\u001b[0mn\u001b[0m\u001b[1;33m//\u001b[0m\u001b[1;36m10\u001b[0m\u001b[1;33m)\u001b[0m\u001b[1;33m\u001b[0m\u001b[1;33m\u001b[0m\u001b[0m\n\u001b[0;32m      5\u001b[0m \u001b[0mn\u001b[0m \u001b[1;33m=\u001b[0m \u001b[1;33m[\u001b[0m\u001b[1;36m2\u001b[0m\u001b[1;33m,\u001b[0m\u001b[1;36m3\u001b[0m\u001b[1;33m,\u001b[0m\u001b[1;36m4\u001b[0m\u001b[1;33m,\u001b[0m\u001b[1;36m5\u001b[0m\u001b[1;33m,\u001b[0m\u001b[1;36m6\u001b[0m\u001b[1;33m]\u001b[0m\u001b[1;33m\u001b[0m\u001b[1;33m\u001b[0m\u001b[0m\n\u001b[1;32m----> 6\u001b[1;33m \u001b[0mresult\u001b[0m \u001b[1;33m=\u001b[0m \u001b[0msum_num\u001b[0m\u001b[1;33m(\u001b[0m\u001b[0mn\u001b[0m\u001b[1;33m)\u001b[0m\u001b[1;33m\u001b[0m\u001b[1;33m\u001b[0m\u001b[0m\n\u001b[0m\u001b[0;32m      7\u001b[0m \u001b[0mprint\u001b[0m\u001b[1;33m(\u001b[0m\u001b[0mresult\u001b[0m\u001b[1;33m)\u001b[0m\u001b[1;33m\u001b[0m\u001b[1;33m\u001b[0m\u001b[0m\n",
      "\u001b[1;32m<ipython-input-12-77161c6cf6ae>\u001b[0m in \u001b[0;36msum_num\u001b[1;34m(n)\u001b[0m\n\u001b[0;32m      1\u001b[0m \u001b[1;32mdef\u001b[0m \u001b[0msum_num\u001b[0m\u001b[1;33m(\u001b[0m\u001b[0mn\u001b[0m\u001b[1;33m)\u001b[0m\u001b[1;33m:\u001b[0m\u001b[1;33m\u001b[0m\u001b[1;33m\u001b[0m\u001b[0m\n\u001b[1;32m----> 2\u001b[1;33m     \u001b[1;32mif\u001b[0m \u001b[0mn\u001b[0m\u001b[1;33m<=\u001b[0m\u001b[1;36m10\u001b[0m\u001b[1;33m:\u001b[0m\u001b[1;33m\u001b[0m\u001b[1;33m\u001b[0m\u001b[0m\n\u001b[0m\u001b[0;32m      3\u001b[0m         \u001b[1;32mreturn\u001b[0m \u001b[0mn\u001b[0m\u001b[1;33m\u001b[0m\u001b[1;33m\u001b[0m\u001b[0m\n\u001b[0;32m      4\u001b[0m     \u001b[1;32mreturn\u001b[0m \u001b[0mn\u001b[0m\u001b[1;33m%\u001b[0m\u001b[1;36m10\u001b[0m \u001b[1;33m+\u001b[0m \u001b[0msum_num\u001b[0m\u001b[1;33m(\u001b[0m\u001b[0mn\u001b[0m\u001b[1;33m//\u001b[0m\u001b[1;36m10\u001b[0m\u001b[1;33m)\u001b[0m\u001b[1;33m\u001b[0m\u001b[1;33m\u001b[0m\u001b[0m\n\u001b[0;32m      5\u001b[0m \u001b[0mn\u001b[0m \u001b[1;33m=\u001b[0m \u001b[1;33m[\u001b[0m\u001b[1;36m2\u001b[0m\u001b[1;33m,\u001b[0m\u001b[1;36m3\u001b[0m\u001b[1;33m,\u001b[0m\u001b[1;36m4\u001b[0m\u001b[1;33m,\u001b[0m\u001b[1;36m5\u001b[0m\u001b[1;33m,\u001b[0m\u001b[1;36m6\u001b[0m\u001b[1;33m]\u001b[0m\u001b[1;33m\u001b[0m\u001b[1;33m\u001b[0m\u001b[0m\n",
      "\u001b[1;31mTypeError\u001b[0m: '<=' not supported between instances of 'list' and 'int'"
     ]
    }
   ],
   "source": [
    "def sum_num(n):\n",
    "    if n<=10:\n",
    "        return n\n",
    "    return n%10 + sum_num(n//10)\n",
    "n = [2,3,4,5,6]\n",
    "result = sum_num(n)\n",
    "print(result)   "
   ]
  },
  {
   "cell_type": "markdown",
   "metadata": {},
   "source": [
    "5.How can you prevent a recursive function from running indefinitely, causing a stack overflow error?"
   ]
  },
  {
   "cell_type": "markdown",
   "metadata": {},
   "source": [
    "1.Use a base case - Must have a base case where the function stops make new recursive calls. If there is no base case then the function calls will never stop and eventually a stack overflow will occur.\n",
    "\n",
    "2.Limit the depth -  Limit the depth of the recursion, which is the number of recursive calls that can be made before returning a value.\n",
    "\n",
    "3.Use tail recursion - Tail recursion is a special kind of recursion where the recursive call is the last thing that the function does before returning.\n",
    "\n",
    "4.Use iteration - The best way to prevent stack overflow is to avoid recursion altogether and use iteration instead. Iteration is a technique that uses loops to repeat a set of instructions until a condition is met."
   ]
  },
  {
   "cell_type": "markdown",
   "metadata": {},
   "source": [
    "6.Create a recursive Python function to find the greatest common divisor (GCD) of two numbers using the Euclidean algorithm."
   ]
  },
  {
   "cell_type": "code",
   "execution_count": 6,
   "metadata": {},
   "outputs": [
    {
     "name": "stdout",
     "output_type": "stream",
     "text": [
      "Enter first number:55\n",
      "Enter second number:35\n",
      "GCD is: \n",
      "5\n"
     ]
    }
   ],
   "source": [
    "def gcd(a,b):\n",
    "    if(b==0):\n",
    "        return a\n",
    "    else:\n",
    "        return gcd(b,a%b)\n",
    "a=int(input(\"Enter first number:\"))\n",
    "b=int(input(\"Enter second number:\"))\n",
    "GCD=gcd(a,b)\n",
    "print(\"GCD is: \")\n",
    "print(GCD)"
   ]
  },
  {
   "cell_type": "markdown",
   "metadata": {},
   "source": [
    "7.Write a recursive Python function to reverse a string."
   ]
  },
  {
   "cell_type": "code",
   "execution_count": 8,
   "metadata": {},
   "outputs": [
    {
     "name": "stdout",
     "output_type": "stream",
     "text": [
      "Enter your string:pwskills\n",
      "Given String: pwskills\n",
      "reversed String: sllikswp\n"
     ]
    }
   ],
   "source": [
    "def reverse_str(a):\n",
    "    if len(a) == 0:\n",
    "        return a\n",
    "    return reverse_str(a[1:]) + a[0]\n",
    "\n",
    "a = input('Enter your string:')\n",
    "print(f\"Given String: {a}\")\n",
    "print(f\"reversed String: {reverse_str(a)}\")"
   ]
  },
  {
   "cell_type": "markdown",
   "metadata": {},
   "source": [
    "8.Create a recursive Python function to calculate the power of a number (x^n)."
   ]
  },
  {
   "cell_type": "code",
   "execution_count": 9,
   "metadata": {},
   "outputs": [
    {
     "name": "stdout",
     "output_type": "stream",
     "text": [
      "25\n"
     ]
    }
   ],
   "source": [
    "def power(N, P):\n",
    "    if P == 0:\n",
    "        return 1\n",
    "    return (N*power(N, P-1))\n",
    "# Driver code\n",
    "if __name__ == '__main__':\n",
    "    N = 5\n",
    "    P = 2\n",
    "    print(power(N, P))"
   ]
  },
  {
   "cell_type": "markdown",
   "metadata": {},
   "source": [
    "9.Write a recursive Python function to find all permutations of a given string."
   ]
  },
  {
   "cell_type": "code",
   "execution_count": 21,
   "metadata": {},
   "outputs": [
    {
     "name": "stdout",
     "output_type": "stream",
     "text": [
      "abc\n",
      "acb\n",
      "bac\n",
      "bca\n",
      "cab\n",
      "cba\n"
     ]
    }
   ],
   "source": [
    "def perms(s):        \n",
    "    if(len(s)==1): return [s]\n",
    "    result=[]\n",
    "    for i,v in enumerate(s):\n",
    "        result += [v+p for p in perms(s[:i]+s[i+1:])]\n",
    "    return result\n",
    "\n",
    "\n",
    "perms('abc')\n",
    "\n",
    "['abc', 'acb', 'bac', 'bca', 'cab', 'cba']\n",
    "\n",
    "\n",
    "print('\\n'.join(perms('abc')))"
   ]
  },
  {
   "cell_type": "markdown",
   "metadata": {},
   "source": [
    "10.Write a recursive Python function to check if a string is a palindrome."
   ]
  },
  {
   "cell_type": "code",
   "execution_count": 23,
   "metadata": {},
   "outputs": [
    {
     "name": "stdout",
     "output_type": "stream",
     "text": [
      "Enter string:ineuron\n",
      "String isn't a palindrome!\n"
     ]
    }
   ],
   "source": [
    "def is_palindrome(s):\n",
    "    if len(s) < 1:\n",
    "        return True\n",
    "    else:\n",
    "        if s[0] == s[-1]:\n",
    "            return is_palindrome(s[1:-1])\n",
    "        else:\n",
    "            return False\n",
    "a=str(input(\"Enter string:\"))\n",
    "if(is_palindrome(a)==True):\n",
    "    print(\"String is a palindrome!\")\n",
    "else:\n",
    "    print(\"String isn't a palindrome!\")"
   ]
  },
  {
   "cell_type": "markdown",
   "metadata": {},
   "source": [
    "11.Create a recursive Python function to generate all possible combinations of a list of elements."
   ]
  },
  {
   "cell_type": "code",
   "execution_count": 27,
   "metadata": {},
   "outputs": [
    {
     "name": "stdout",
     "output_type": "stream",
     "text": [
      "[[], [1], [2], [1, 2], [3], [1, 3], [2, 3], [1, 2, 3]]\n"
     ]
    }
   ],
   "source": [
    "def combinations(l):\n",
    "    if l:\n",
    "        result = combinations(l[:-1])\n",
    "        return result + [c + [l[-1]] for c in result]\n",
    "    else:\n",
    "        return [[]]\n",
    "l = [1,2,3]\n",
    "print(combinations(l))"
   ]
  },
  {
   "cell_type": "markdown",
   "metadata": {},
   "source": [
    "# Basics of Functions"
   ]
  },
  {
   "cell_type": "markdown",
   "metadata": {},
   "source": [
    "1.What is a function in Python, and why is it used?"
   ]
  },
  {
   "cell_type": "markdown",
   "metadata": {},
   "source": [
    "In Python a function is defined using the def keyword:\n",
    "A function is a block of code which only runs when it is called.\n",
    "You can pass data, known as parameters, into a function.\n",
    "A function can return data as a result."
   ]
  },
  {
   "cell_type": "markdown",
   "metadata": {},
   "source": [
    "2.How do you define a function in Python? Provide an example."
   ]
  },
  {
   "cell_type": "code",
   "execution_count": 30,
   "metadata": {},
   "outputs": [],
   "source": [
    "#In Python a function is defined using the def keyword:\n",
    "#Example\n",
    "def my_function():\n",
    "    print(\"Hello from a function\")\n",
    "#To call a function, use the function name followed by parenthesis:\n",
    "\n",
    "#Example\n",
    "def my_function():"
   ]
  },
  {
   "cell_type": "markdown",
   "metadata": {},
   "source": [
    "3.Explain the difference between a function definition and a function call."
   ]
  },
  {
   "cell_type": "code",
   "execution_count": null,
   "metadata": {},
   "outputs": [],
   "source": [
    "\"\"\"Function definition - It is for defining a function .Keyword used for function definition is def.\"\"\"\n",
    "def my_function():\n",
    "\n",
    "\"\"\"Function call - It is used to execute the code in method definition.\"\"\"\n",
    "def my_function():\n",
    "    print(\"Hello from a function\")\n",
    "#To call a function, use the function name followed by parenthesis:\n",
    "#Example\n",
    "def my_function():"
   ]
  },
  {
   "cell_type": "markdown",
   "metadata": {},
   "source": [
    "4.Write a Python program that defines a function to calculate the sum of two numbers and then calls the function."
   ]
  },
  {
   "cell_type": "code",
   "execution_count": 32,
   "metadata": {},
   "outputs": [
    {
     "data": {
      "text/plain": [
       "12"
      ]
     },
     "execution_count": 32,
     "metadata": {},
     "output_type": "execute_result"
    }
   ],
   "source": [
    "def sum_num(a,b):\n",
    "    sum1 = a+b\n",
    "    return sum1\n",
    "sum_num(5,7)"
   ]
  },
  {
   "cell_type": "markdown",
   "metadata": {},
   "source": [
    "5.What is a function signature, and what information does it typically include?"
   ]
  },
  {
   "cell_type": "markdown",
   "metadata": {},
   "source": [
    "It is the definiion body in function . A function signature has its declaration, parameters, and return type.\n",
    "Example \n",
    "def func(return_type)"
   ]
  },
  {
   "cell_type": "markdown",
   "metadata": {},
   "source": [
    "6.Create a Python function that takes two arguments and returns their product."
   ]
  },
  {
   "cell_type": "code",
   "execution_count": 33,
   "metadata": {},
   "outputs": [
    {
     "data": {
      "text/plain": [
       "360"
      ]
     },
     "execution_count": 33,
     "metadata": {},
     "output_type": "execute_result"
    }
   ],
   "source": [
    "def mult(a,b):\n",
    "    mult1= a*b\n",
    "    return mult1\n",
    "mult(45,8)"
   ]
  },
  {
   "cell_type": "markdown",
   "metadata": {},
   "source": [
    "# Function Parameters and Arguments:"
   ]
  },
  {
   "cell_type": "markdown",
   "metadata": {},
   "source": [
    "1.Explain the concepts of formal parameters and actual arguments in Python functions."
   ]
  },
  {
   "cell_type": "markdown",
   "metadata": {},
   "source": [
    "The parameters, which receive the values sent from the function call, are called formal arguments. Actual arguments: The parameters which we use in the function call or the parameters which we use to send the values/data during the function call are called actual arguments."
   ]
  },
  {
   "cell_type": "code",
   "execution_count": 34,
   "metadata": {},
   "outputs": [
    {
     "name": "stdout",
     "output_type": "stream",
     "text": [
      "25\n"
     ]
    }
   ],
   "source": [
    "def sum(a, b):\n",
    "    c = a + b            # a and b are formal arguments\n",
    "    print(c)\n",
    "# call the function\n",
    "x = 10\n",
    "y = 15\n",
    "sum(x, y)            # x and y are actual arguments"
   ]
  },
  {
   "cell_type": "markdown",
   "metadata": {},
   "source": [
    "2.Write a Python program that defines a function with default argument values."
   ]
  },
  {
   "cell_type": "code",
   "execution_count": 39,
   "metadata": {},
   "outputs": [
    {
     "data": {
      "text/plain": [
       "6"
      ]
     },
     "execution_count": 39,
     "metadata": {},
     "output_type": "execute_result"
    }
   ],
   "source": [
    "def sum1(a=6 , b=4):\n",
    "    sum = a+b\n",
    "    return sum  \n",
    "sum1(2,4)"
   ]
  },
  {
   "cell_type": "markdown",
   "metadata": {},
   "source": [
    "3.How do you use keyword arguments in Python function calls? Provide an example."
   ]
  },
  {
   "cell_type": "markdown",
   "metadata": {},
   "source": [
    "An argument is a value that is accepted by a function.\n",
    "The function takes two parameters: a and b in arguments section(a,b)."
   ]
  },
  {
   "cell_type": "code",
   "execution_count": 35,
   "metadata": {},
   "outputs": [
    {
     "name": "stdout",
     "output_type": "stream",
     "text": [
      "John Mark studies in Fifth Standard\n",
      "John Mark studies in Seventh Standard\n",
      "John Gates studies in Fifth Standard\n"
     ]
    }
   ],
   "source": [
    "def student(firstname, lastname ='Mark', standard ='Fifth'):\n",
    "    print(firstname, lastname, 'studies in', standard, 'Standard')\n",
    "\n",
    "# 1 keyword argument\n",
    "student(firstname ='John') \n",
    "\n",
    "# 2 keyword arguments\n",
    "student(firstname ='John', standard ='Seventh') \n",
    "\n",
    "# 2 keyword arguments \n",
    "student(lastname ='Gates', firstname ='John') "
   ]
  },
  {
   "cell_type": "markdown",
   "metadata": {},
   "source": [
    "4.Create a Python function that accepts a variable number of arguments and calculates their sum."
   ]
  },
  {
   "cell_type": "code",
   "execution_count": 40,
   "metadata": {},
   "outputs": [
    {
     "data": {
      "text/plain": [
       "21"
      ]
     },
     "execution_count": 40,
     "metadata": {},
     "output_type": "execute_result"
    }
   ],
   "source": [
    "def sum_num(a,b,c):\n",
    "    s =a+b+c\n",
    "    return s\n",
    "sum_num(12,3,6)"
   ]
  },
  {
   "cell_type": "markdown",
   "metadata": {},
   "source": [
    "5.What is the purpose of the `*args` and `**kwargs` syntax in function parameter lists?"
   ]
  },
  {
   "cell_type": "markdown",
   "metadata": {},
   "source": [
    "*args passes variable number of non-keyworded arguments and on which operation of the tuple can be performed. **kwargs passes variable number of keyword arguments dictionary to function on which operation of a dictionary can be performed."
   ]
  },
  {
   "cell_type": "code",
   "execution_count": 45,
   "metadata": {},
   "outputs": [
    {
     "name": "stdout",
     "output_type": "stream",
     "text": [
      "Sum: 8\n",
      "Sum: 22\n",
      "Sum: 17\n"
     ]
    }
   ],
   "source": [
    "def adder(*num):\n",
    "    sum = 0\n",
    "    \n",
    "    for n in num:\n",
    "        sum = sum + n\n",
    "\n",
    "    print(\"Sum:\",sum)\n",
    "\n",
    "adder(3,5)\n",
    "adder(4,5,6,7)\n",
    "adder(1,2,3,5,6)"
   ]
  },
  {
   "cell_type": "code",
   "execution_count": 41,
   "metadata": {},
   "outputs": [
    {
     "name": "stdout",
     "output_type": "stream",
     "text": [
      "\n",
      "Data type of argument: <class 'dict'>\n",
      "Firstname is Sita\n",
      "Lastname is Sharma\n",
      "Age is 22\n",
      "Phone is 1234567890\n",
      "\n",
      "Data type of argument: <class 'dict'>\n",
      "Firstname is John\n",
      "Lastname is Wood\n",
      "Email is johnwood@nomail.com\n",
      "Country is Wakanda\n",
      "Age is 25\n",
      "Phone is 9876543210\n"
     ]
    }
   ],
   "source": [
    "def intro(**data):\n",
    "    print(\"\\nData type of argument:\",type(data))\n",
    "\n",
    "    for key, value in data.items():\n",
    "        print(\"{} is {}\".format(key,value))\n",
    "\n",
    "intro(Firstname=\"Sita\", Lastname=\"Sharma\", Age=22, Phone=1234567890)\n",
    "intro(Firstname=\"John\", Lastname=\"Wood\", Email=\"johnwood@nomail.com\", Country=\"Wakanda\", Age=25, Phone=9876543210)"
   ]
  },
  {
   "cell_type": "markdown",
   "metadata": {},
   "source": [
    "# Return Values and Scoping:"
   ]
  },
  {
   "cell_type": "markdown",
   "metadata": {},
   "source": [
    "1.Describe the role of the `return` statement in Python functions and provide examples."
   ]
  },
  {
   "cell_type": "markdown",
   "metadata": {},
   "source": [
    " Return statement in python functions send Python objects back to the caller code. These objects are known as the function's return value. "
   ]
  },
  {
   "cell_type": "code",
   "execution_count": 46,
   "metadata": {},
   "outputs": [
    {
     "data": {
      "text/plain": [
       "[2, 4, 6]"
      ]
     },
     "execution_count": 46,
     "metadata": {},
     "output_type": "execute_result"
    }
   ],
   "source": [
    "#for example-\n",
    ">>> def get_even(numbers):\n",
    "    even_nums = [num for num in numbers if not num % 2]\n",
    "    return even_nums\n",
    "get_even([1, 2, 3, 4, 5, 6])\n",
    "#the function returns the resulting list, which contains only even numbers."
   ]
  },
  {
   "cell_type": "markdown",
   "metadata": {},
   "source": [
    "2.Explain the concept of variable scope in Python, including local and global variables."
   ]
  },
  {
   "cell_type": "markdown",
   "metadata": {},
   "source": [
    "Local variables are those which are defined inside a function and their scope is limited to that function only.\n",
    "Global variables are those which are not defined inside any function and have a global scope whereas Python "
   ]
  },
  {
   "cell_type": "code",
   "execution_count": 48,
   "metadata": {},
   "outputs": [
    {
     "name": "stdout",
     "output_type": "stream",
     "text": [
      "I love PYTHON\n"
     ]
    }
   ],
   "source": [
    "#examples of local variable\n",
    "def f():\n",
    "# local variable\n",
    "    s = \"I love PYTHON\"\n",
    "    print(s)\n",
    "# Driver code\n",
    "f()"
   ]
  },
  {
   "cell_type": "code",
   "execution_count": 50,
   "metadata": {},
   "outputs": [
    {
     "name": "stdout",
     "output_type": "stream",
     "text": [
      "Inside Function I love PYTHON\n",
      "Outside Function I love PYTHON\n"
     ]
    }
   ],
   "source": [
    "# This function uses global variable s\n",
    "def f():\n",
    "    print(\"Inside Function\", s)\n",
    "# Global scope\n",
    "s = \"I love PYTHON\"\n",
    "f()\n",
    "print(\"Outside Function\", s)"
   ]
  },
  {
   "cell_type": "markdown",
   "metadata": {},
   "source": [
    "3.Write a Python program that demonstrates the use of global variables within functions."
   ]
  },
  {
   "cell_type": "code",
   "execution_count": 51,
   "metadata": {},
   "outputs": [
    {
     "name": "stdout",
     "output_type": "stream",
     "text": [
      "3\n"
     ]
    }
   ],
   "source": [
    "# global variable\n",
    "c = 1 \n",
    "\n",
    "def add():\n",
    "\n",
    "    # use of global keyword\n",
    "    global c\n",
    "\n",
    "    # increment c by 2\n",
    "    c = c + 2 \n",
    "\n",
    "    print(c)\n",
    "\n",
    "add()"
   ]
  },
  {
   "cell_type": "markdown",
   "metadata": {},
   "source": [
    "4.Create a Python function that calculates the factorial of a number and returns it."
   ]
  },
  {
   "cell_type": "code",
   "execution_count": 61,
   "metadata": {},
   "outputs": [
    {
     "name": "stdout",
     "output_type": "stream",
     "text": [
      "479001600\n"
     ]
    }
   ],
   "source": [
    "def  fact(n):\n",
    "    if n <=1:\n",
    "        return 1\n",
    "    return n*fact(n-1)\n",
    "n =12\n",
    "print(fact(n))"
   ]
  },
  {
   "cell_type": "markdown",
   "metadata": {},
   "source": [
    "5.How can you access variables defined outside a function from within the function?"
   ]
  },
  {
   "cell_type": "code",
   "execution_count": 62,
   "metadata": {},
   "outputs": [
    {
     "data": {
      "text/plain": [
       "18"
      ]
     },
     "execution_count": 62,
     "metadata": {},
     "output_type": "execute_result"
    }
   ],
   "source": [
    "# from above solution of Q3 we can access global variables .\n",
    "def mult(num):\n",
    "    mul = num *c\n",
    "    return mul\n",
    "mult(6)"
   ]
  },
  {
   "cell_type": "markdown",
   "metadata": {},
   "source": [
    "# Lambda Functions and Higher-Order Functions:"
   ]
  },
  {
   "cell_type": "markdown",
   "metadata": {},
   "source": [
    "1.What are lambda functions in Python, and when are they typically used?"
   ]
  },
  {
   "cell_type": "markdown",
   "metadata": {},
   "source": [
    "Python Lambda Functions are anonymous functions means that the function is without a name. As we already know the def keyword is used to define a normal function in Python. Similarly, the lambda keyword is used to define an anonymous function in Python."
   ]
  },
  {
   "cell_type": "code",
   "execution_count": 63,
   "metadata": {},
   "outputs": [
    {
     "name": "stdout",
     "output_type": "stream",
     "text": [
      "PWSKILLS\n"
     ]
    }
   ],
   "source": [
    "str1 = 'pwskills'\n",
    "\n",
    "upper = lambda string: string.upper()\n",
    "print(upper(str1))"
   ]
  },
  {
   "cell_type": "markdown",
   "metadata": {},
   "source": [
    "2.Write a Python program that uses lambda functions to sort a list of tuples based on the second element."
   ]
  },
  {
   "cell_type": "code",
   "execution_count": 64,
   "metadata": {},
   "outputs": [
    {
     "name": "stdout",
     "output_type": "stream",
     "text": [
      "The original list is : [('a', 2), ('c', 3), ('d', 4)]\n",
      "The sort order list is : [4, 2, 3]\n",
      "The list after appropriate sorting : [('d', 4), ('a', 2), ('c', 3)]\n"
     ]
    }
   ],
   "source": [
    "# initializing list of tuples\n",
    "test_list = [('a', 2), ('c', 3), ('d', 4)]\n",
    "\n",
    "# initializing sort order\n",
    "sort_order = [4, 2, 3]\n",
    "\n",
    "# printing the original list\n",
    "print(\"The original list is : \" + str(test_list))\n",
    "\n",
    "# printing sort order list\n",
    "print(\"The sort order list is : \" + str(sort_order))\n",
    "\n",
    "# using list comprehension + filter() + lambda\n",
    "# sort list of tuples according to second\n",
    "res = [i for j in sort_order\n",
    "    for i in filter(lambda k: k[1] == j, test_list)]\n",
    "\n",
    "# printing result\n",
    "print(\"The list after appropriate sorting : \" + str(res))\n"
   ]
  },
  {
   "cell_type": "markdown",
   "metadata": {},
   "source": [
    "3.Explain the concept of higher-order functions in Python, and provide an example."
   ]
  },
  {
   "cell_type": "markdown",
   "metadata": {},
   "source": [
    "Higher-order functions are functions that take a function as a parameter and/or return a function as an output. A few useful higher-order functions are map() , filter() , and reduce() . map() and filter() are built-in functions, whereas reduce() is contained in functools() module."
   ]
  },
  {
   "cell_type": "markdown",
   "metadata": {},
   "source": [
    "4.Create a Python function that takes a list of numbers and a function as arguments, applying the function to each element in the list."
   ]
  },
  {
   "cell_type": "code",
   "execution_count": 67,
   "metadata": {},
   "outputs": [
    {
     "name": "stdout",
     "output_type": "stream",
     "text": [
      "[2, 4, 6]\n"
     ]
    }
   ],
   "source": [
    "def double(integer):\n",
    "    return integer*2\n",
    "\n",
    "# driver code\n",
    "integer_list = [1, 2, 3]\n",
    "\n",
    "# Calling double method on each integer\n",
    "# in list using list comprehension.\n",
    "output_list = [double(i) for i in integer_list]\n",
    "\n",
    "print(output_list)"
   ]
  },
  {
   "cell_type": "markdown",
   "metadata": {},
   "source": [
    "# Built-in Functions:"
   ]
  },
  {
   "cell_type": "markdown",
   "metadata": {},
   "source": [
    "1.Describe the role of built-in functions like `len()`, `max()`, and `min()` in Python."
   ]
  },
  {
   "cell_type": "code",
   "execution_count": null,
   "metadata": {},
   "outputs": [],
   "source": [
    "len() = len function is used to find the length of a string,tuple.\n",
    "max() = max function is a in-built function which is used to find the largest element inside tuple.\n",
    "min() = min function is a in-built function which is used to find the smallest element inside tuple."
   ]
  },
  {
   "cell_type": "markdown",
   "metadata": {},
   "source": [
    "1.Write a Python program that uses the `map()` function to apply a function to each element of a list."
   ]
  },
  {
   "cell_type": "code",
   "execution_count": 3,
   "metadata": {},
   "outputs": [
    {
     "name": "stdout",
     "output_type": "stream",
     "text": [
      "list of temperatures from Celsius to Fahrenheit: [73.4, 93.2, 77.0, 53.6]\n"
     ]
    }
   ],
   "source": [
    "celsius_lst = [23,34,25,12]\n",
    "fahrenheit = list(map(lambda c :(c*9/5)+32,celsius_lst))\n",
    "print(\"list of temperatures from Celsius to Fahrenheit:\",fahrenheit)"
   ]
  },
  {
   "cell_type": "markdown",
   "metadata": {},
   "source": [
    "3.How does the `filter()` function work in Python, and when would you use it?"
   ]
  },
  {
   "cell_type": "code",
   "execution_count": 4,
   "metadata": {},
   "outputs": [
    {
     "name": "stdout",
     "output_type": "stream",
     "text": [
      "list of odd num is  [9]\n"
     ]
    }
   ],
   "source": [
    "\"\"\"The filter() function selects elements from an iterable (list, tuple etc.) based on the output\n",
    "of a function.The function is applied to each element of the iterable and if it returns True,\n",
    "the element is selected by the filter() function.\"\"\"\n",
    "## Example\n",
    "l = [2,9,6,8,4,]\n",
    "result =list(filter(lambda a :a%2!=0,l))\n",
    "print(\"list of odd num is \",result)"
   ]
  },
  {
   "cell_type": "markdown",
   "metadata": {},
   "source": [
    "4.Create a Python program that uses the `reduce()` function to find the product of all elements in a list."
   ]
  },
  {
   "cell_type": "markdown",
   "metadata": {},
   "source": [
    "The reduce() function is a powerful tool in Python that operates on a list (or any iterable), applies a function to its elements, and 'reduces' them to a single output. It's part of the functools module, which needs to be imported before you can use reduce(). "
   ]
  },
  {
   "cell_type": "code",
   "execution_count": 12,
   "metadata": {},
   "outputs": [
    {
     "name": "stdout",
     "output_type": "stream",
     "text": [
      " product of all elements in a list : 180\n"
     ]
    }
   ],
   "source": [
    "import functools \n",
    "lst = [1, 3, 5, 6, 2] \n",
    "print(\" product of all elements in a list : \",end=\"\")\n",
    "print(functools.reduce(lambda a, b: a*b, lst)) "
   ]
  },
  {
   "cell_type": "markdown",
   "metadata": {},
   "source": [
    "# Function Documentation and Best Practices:"
   ]
  },
  {
   "cell_type": "markdown",
   "metadata": {},
   "source": [
    "1.Explain the purpose of docstrings in Python functions and how to write them."
   ]
  },
  {
   "cell_type": "markdown",
   "metadata": {},
   "source": [
    "Python documentation strings (or docstrings) provide a convenient way of associating documentation with Python modules, functions, classes, and methods. It’s specified in source code that is used, like a comment, to document a specific segment of code. Unlike conventional source code comments, the docstring should describe what the function does, not how.\n",
    "\n",
    "Declaring Docstrings: The docstrings are declared using ”’triple single quotes”’ or “”” triple double quotes “”” just below the class, method, or function declaration. All functions should have a docstring.\n",
    "Accessing Docstrings: The docstrings can be accessed using the __doc__ method of the object or using the help function. The below examples demonstrate how to declare and access a docstring."
   ]
  },
  {
   "cell_type": "code",
   "execution_count": 15,
   "metadata": {},
   "outputs": [
    {
     "name": "stdout",
     "output_type": "stream",
     "text": [
      "Using __doc__:\n",
      "Demonstrates triple double quotes\n",
      "    docstrings and does nothing really.\n",
      "Using help:\n",
      "Help on function my_function in module __main__:\n",
      "\n",
      "my_function()\n",
      "    Demonstrates triple double quotes\n",
      "    docstrings and does nothing really.\n",
      "\n"
     ]
    }
   ],
   "source": [
    "def my_function():\n",
    "    '''Demonstrates triple double quotes\n",
    "    docstrings and does nothing really.'''\n",
    "\n",
    "    return None\n",
    "\n",
    "print(\"Using __doc__:\")\n",
    "print(my_function.__doc__)\n",
    "\n",
    "print(\"Using help:\")\n",
    "help(my_function)"
   ]
  },
  {
   "cell_type": "markdown",
   "metadata": {},
   "source": [
    "2.Describe some best practices for naming functions and variables in Python, including naming conventions and guidelines."
   ]
  },
  {
   "cell_type": "markdown",
   "metadata": {},
   "source": [
    "1.Variable names should be descriptive and meaningful. They should describe what the variable represents or contains. For example, if you are writing a program that calculates the area of a circle, you might name your variable \"radius\" or \"area\". Avoid using generic or meaningless names such as \"x\" or \"temp\".\n",
    "\n",
    ".2. Follow a consistent naming convention\n",
    "It's important to follow a consistent naming convention to make your code more readable and understandable. Two cases are-\n",
    "CamelCase: For example, \"firstName\" or \"lastName\".\n",
    "snake_case: For example, \"first_name\" or \"last_name\n",
    "\n",
    "3. Avoid reserved keywords\n",
    "Avoid using reserved keywords as variable names that make your code hard to read. Some examples of reserved keywords are \"if\", \"while\", \"for\", and \"print\".\n",
    "\n",
    "4. Don't use abbreviations\n",
    "Avoid using abbreviations in your variable names. Abbreviations can be confusing and may not be understandable to other developers. Instead, use full and descriptive names."
   ]
  }
 ],
 "metadata": {
  "kernelspec": {
   "display_name": "Python 3",
   "language": "python",
   "name": "python3"
  }
 },
 "nbformat": 4,
 "nbformat_minor": 4
}
